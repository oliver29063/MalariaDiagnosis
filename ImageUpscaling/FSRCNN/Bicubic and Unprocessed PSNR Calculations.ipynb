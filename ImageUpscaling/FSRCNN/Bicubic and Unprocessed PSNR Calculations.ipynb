{
  "nbformat": 4,
  "nbformat_minor": 0,
  "metadata": {
    "colab": {
      "name": "03.14 - Bicubic and Unprocessed PSNR Calculations",
      "provenance": [],
      "collapsed_sections": [],
      "machine_shape": "hm"
    },
    "kernelspec": {
      "name": "python3",
      "display_name": "Python 3"
    },
    "accelerator": "GPU"
  },
  "cells": [
    {
      "cell_type": "markdown",
      "metadata": {
        "id": "MA2uvH26swpB",
        "colab_type": "text"
      },
      "source": [
        "## Calculating PSNR and MSE of NIH Dataset\n",
        "Here we load the images from the NIH dataset online, and resize all images to 128x128. Then we downsample it by a factor of 4 into 32x32 and reupscale it via bicubic interpolation. Then we calculate the MSE and PSNR. "
      ]
    },
    {
      "cell_type": "code",
      "metadata": {
        "id": "h72VqJwYafQD",
        "colab_type": "code",
        "colab": {}
      },
      "source": [
        "# Import relevant packages\n",
        "import numpy as np\n",
        "import os\n",
        "from shutil import copyfile\n",
        "from zipfile import ZipFile\n",
        "\n",
        "# Download NIH dataset zip file\n",
        "!wget -nc ftp://lhcftp.nlm.nih.gov/Open-Access-Datasets/Malaria/cell_images.zip\n",
        "\n",
        "# Extract images if not already extracted\n",
        "ROOT_DIR = os.path.join(\"/\", \"content\")\n",
        "if not os.path.isdir(\"cell_images\"):\n",
        "    print(\"Extracting images...\")\n",
        "    with ZipFile(os.path.join(\"cell_images.zip\"), \"r\") as zipObj:\n",
        "        zipObj.extractall()\n",
        "    print(\"Done!\")\n",
        "\n",
        "# Install and import relevant packages\n",
        "import numpy as np\n",
        "import os\n",
        "!pip install opencv-python\n",
        "!apt update && apt install -y libsm6 libxext6 libxrender1\n",
        "import cv2\n",
        "from PIL import Image\n",
        "\n",
        "# Create new folders to save rescaled images\n",
        "if not os.path.isdir(\"RescaledSet\"):\n",
        "    os.mkdir(\"RescaledSet\")\n",
        "if not os.path.isdir(\"RescaledSet/Parasitized\"):\n",
        "    os.mkdir(\"RescaledSet/Parasitized\")\n",
        "if not os.path.isdir(\"RescaledSet/Uninfected\"):\n",
        "    os.mkdir(\"RescaledSet/Uninfected\")\n",
        "\n",
        "# Generate list of parasitized file names\n",
        "ParasitizedFiles = os.listdir(\"cell_images/Parasitized/\")\n",
        "UninfectedFiles = os.listdir(\"cell_images/Uninfected/\")\n",
        "\n",
        "# Remove Thumb.db files\n",
        "while 'Thumbs.db' in ParasitizedFiles: ParasitizedFiles.remove('Thumbs.db')   \n",
        "while 'Thumbs.db' in UninfectedFiles: UninfectedFiles.remove('Thumbs.db')  \n",
        "\n",
        "# Pre-allocate memory space for images\n",
        "Parasitized = np.empty([13779,128,128,3])\n",
        "Uninfected = np.empty([13779,128,128,3])\n",
        "\n",
        "# Resize and load parasitized images\n",
        "for i in range(13779):\n",
        "    TempImage = cv2.imread('cell_images/Parasitized/'+ParasitizedFiles[i])\n",
        "    ResizedImage = cv2.resize(TempImage, dsize=(128,128))\n",
        "    Parasitized[i,:,:,:] = ResizedImage\n",
        "\n",
        "# Resize and load uninfected images\n",
        "for i in range(2500):\n",
        "    TempImage = cv2.imread('cell_images/Uninfected/'+UninfectedFiles[i])\n",
        "    ResizedImage = cv2.resize(TempImage, dsize=(128,128))\n",
        "    Uninfected[i,:,:,:] = ResizedImage\n",
        "\n",
        "# Generate image dataset\n",
        "Dataset = np.concatenate((Parasitized, Uninfected), axis=0)\n",
        "\n",
        "# Generate train and test sets\n",
        "from skimage.transform import rescale, resize, downscale_local_mean\n",
        "\n",
        "Small = np.zeros([np.shape(Dataset)[0],32,32,3])\n",
        "for i in range(np.shape(Small)[0]):\n",
        "  Small[i,:,:,:] = downscale_local_mean(Dataset[i,:,:,:], (4,4,1))"
      ],
      "execution_count": 0,
      "outputs": []
    },
    {
      "cell_type": "markdown",
      "metadata": {
        "id": "aJDKSA8qUkWx",
        "colab_type": "text"
      },
      "source": [
        "### Calculate MSE and PSNR"
      ]
    },
    {
      "cell_type": "code",
      "metadata": {
        "colab_type": "code",
        "id": "XZDIs7YzUeof",
        "colab": {}
      },
      "source": [
        "import cv2\n",
        "from math import log\n",
        "SE = 0\n",
        "Temp = np.zeros([128,128,3])\n",
        "for i in range(np.shape(Small)[0]):\n",
        "  for j in range(3):\n",
        "    Temp[:,:,j] = cv2.resize(Small[i,:,:,j], dsize = (128,128), interpolation = cv2.INTER_CUBIC)\n",
        "    #Temp = rescale(Small[i,:,:,:], (4,4,1), order = 2, anti_aliasing=False)\n",
        "  SE = SE + ((Temp - Dataset[i,:,:,:])**2).mean()\n",
        "MSE = SE/np.shape(Small)[0] \n",
        "\n",
        "print(\"The MSE is:\", MSE)\n",
        "print(\"The PSNR is:\", 10*log10(256**2/MSE))"
      ],
      "execution_count": 0,
      "outputs": []
    }
  ]
}