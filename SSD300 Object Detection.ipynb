{
  "nbformat": 4,
  "nbformat_minor": 0,
  "metadata": {
    "accelerator": "GPU",
    "colab": {
      "name": "SSD300 Object Detection.ipynb",
      "provenance": [],
      "collapsed_sections": [],
      "toc_visible": true
    },
    "kernelspec": {
      "name": "python3",
      "display_name": "Python 3"
    }
  },
  "cells": [
    {
      "cell_type": "markdown",
      "metadata": {
        "id": "MZnzER3nYIYm",
        "colab_type": "text"
      },
      "source": [
        "# INFORMATION TO USER\n",
        "This notebook generates the results referred to in **Table 2** of the manuscript in the **Results** subsection titled **Red Blood Cell Object Detection Model** to create the SSD300 Object Detection model. This notebook **MUST** be run on the **Google Cloud Computing Platform**. \n",
        "\n",
        "All versions are already built into the codes. "
      ]
    },
    {
      "cell_type": "markdown",
      "metadata": {
        "id": "vqvF3isJRaN_",
        "colab_type": "text"
      },
      "source": [
        "# Training"
      ]
    },
    {
      "cell_type": "markdown",
      "metadata": {
        "colab_type": "text",
        "id": "kFSqkTCdWKMI"
      },
      "source": [
        "## Setup"
      ]
    },
    {
      "cell_type": "markdown",
      "metadata": {
        "colab_type": "text",
        "id": "p3UGXxUii5Ym"
      },
      "source": [
        "### Install"
      ]
    },
    {
      "cell_type": "code",
      "metadata": {
        "colab_type": "code",
        "id": "hGL97-GXjSUw",
        "colab": {}
      },
      "source": [
        "# Compatibility with object detection API training script\n",
        "!pip install tensorflow==1.15\n",
        "!pip install tensorflow-gpu==1.15\n",
        "\n",
        "# Fix for \"InvalidArgumentError: TypeError: 'numpy.float64' object cannot be interpreted as an integer\"\n",
        "# Reference: https://stackoverflow.com/questions/59493606/pytorch-and-tensorflow-object-detection-evaluate-object-of-type-class-nump\n",
        "!pip install numpy==1.17.4\n",
        "!pip install pycocotools"
      ],
      "execution_count": null,
      "outputs": []
    },
    {
      "cell_type": "markdown",
      "metadata": {
        "colab_type": "text",
        "id": "-vsOL3QR6kqs"
      },
      "source": [
        "Get `tensorflow/models` or `cd` to parent directory of the repository."
      ]
    },
    {
      "cell_type": "code",
      "metadata": {
        "colab_type": "code",
        "id": "ykA0c-om51s1",
        "colab": {}
      },
      "source": [
        "import os\n",
        "import pathlib\n",
        "\n",
        "\n",
        "CWD = pathlib.Path.cwd()\n",
        "\n",
        "if \"models\" in pathlib.Path.cwd().parts:\n",
        "  while \"models\" in pathlib.Path.cwd().parts:\n",
        "    os.chdir('..')\n",
        "elif not pathlib.Path('models').exists():\n",
        "  !git clone --depth 1 https://github.com/tensorflow/models\n",
        "\n",
        "print()\n",
        "print(f'Current Working Directory: \"{CWD}\"')"
      ],
      "execution_count": null,
      "outputs": []
    },
    {
      "cell_type": "markdown",
      "metadata": {
        "id": "fGrHnE6m4VX8",
        "colab_type": "text"
      },
      "source": [
        "Fixes for Training section"
      ]
    },
    {
      "cell_type": "code",
      "metadata": {
        "id": "mQ5rngdgwcsM",
        "colab_type": "code",
        "colab": {}
      },
      "source": [
        "# Fix for \"ImportError: No module named nets\"\n",
        "# Reference: https://github.com/tensorflow/models/issues/1842\n",
        "!cp -r {CWD}/models/research/slim/nets {CWD}/models/research/object_detection"
      ],
      "execution_count": null,
      "outputs": []
    },
    {
      "cell_type": "code",
      "metadata": {
        "id": "ISDKCxx3vhRv",
        "colab_type": "code",
        "colab": {}
      },
      "source": [
        "# Fix for \"ValueError: anchor_strides must be a list with the same length as self._box_specs\"\n",
        "# Reference: https://stackoverflow.com/questions/53563976/tensorflow-object-detection-api-valueerror-anchor-strides-must-be-a-list-wit\n",
        "# Modify \"/.../models/research/object_detection/anchor_generators/multiple_grid_anchor_generator.py\"\n",
        "!cp {CWD}/multiple_grid_anchor_generator_fix.py {CWD}/models/research/object_detection/anchor_generators/multiple_grid_anchor_generator.py"
      ],
      "execution_count": null,
      "outputs": []
    },
    {
      "cell_type": "markdown",
      "metadata": {
        "colab_type": "text",
        "id": "O219m6yWAj9l"
      },
      "source": [
        "Compile protobufs and install the object_detection package"
      ]
    },
    {
      "cell_type": "code",
      "metadata": {
        "colab_type": "code",
        "id": "PY41vdYYNlXc",
        "colab": {}
      },
      "source": [
        "%%bash\n",
        "cd models/research/\n",
        "protoc object_detection/protos/*.proto --python_out=."
      ],
      "execution_count": null,
      "outputs": []
    },
    {
      "cell_type": "code",
      "metadata": {
        "colab_type": "code",
        "id": "s62yJyQUcYbp",
        "colab": {}
      },
      "source": [
        "%%bash\n",
        "cd models/research\n",
        "pip install ."
      ],
      "execution_count": null,
      "outputs": []
    },
    {
      "cell_type": "markdown",
      "metadata": {
        "colab_type": "text",
        "id": "LBdjK2G5ywuc"
      },
      "source": [
        "### Imports"
      ]
    },
    {
      "cell_type": "code",
      "metadata": {
        "colab_type": "code",
        "id": "hV4P5gyTWKMI",
        "colab": {}
      },
      "source": [
        "import numpy as np\n",
        "import os\n",
        "import six.moves.urllib as urllib\n",
        "import sys\n",
        "import tarfile\n",
        "import tensorflow as tf\n",
        "import zipfile\n",
        "\n",
        "from collections import defaultdict\n",
        "from io import StringIO\n",
        "from matplotlib import pyplot as plt\n",
        "from PIL import Image\n",
        "from IPython.display import display"
      ],
      "execution_count": null,
      "outputs": []
    },
    {
      "cell_type": "markdown",
      "metadata": {
        "colab_type": "text",
        "id": "Joq4eWpL7uu5"
      },
      "source": [
        "Import the object detection module."
      ]
    },
    {
      "cell_type": "code",
      "metadata": {
        "colab_type": "code",
        "id": "k3qgWL5O7uvI",
        "colab": {}
      },
      "source": [
        "from object_detection.utils import ops as utils_ops\n",
        "from object_detection.utils import label_map_util\n",
        "from object_detection.utils import visualization_utils as vis_util"
      ],
      "execution_count": null,
      "outputs": []
    },
    {
      "cell_type": "markdown",
      "metadata": {
        "colab_type": "text",
        "id": "RYPCiag2iz_q"
      },
      "source": [
        "Patches:"
      ]
    },
    {
      "cell_type": "code",
      "metadata": {
        "colab_type": "code",
        "id": "mF-YlMl8c_bM",
        "colab": {}
      },
      "source": [
        "# Patch the location of gfile\n",
        "tf.gfile = tf.io.gfile"
      ],
      "execution_count": null,
      "outputs": []
    },
    {
      "cell_type": "markdown",
      "metadata": {
        "colab_type": "text",
        "id": "cfn_tRFOWKMO"
      },
      "source": [
        "## Model preparation "
      ]
    },
    {
      "cell_type": "markdown",
      "metadata": {
        "colab_type": "text",
        "id": "X_sEBLpVWKMQ"
      },
      "source": [
        "### Variables\n",
        "\n",
        "Any model exported using the `export_inference_graph.py` tool can be loaded here simply by changing the path.\n",
        "\n",
        "By default we use an \"SSD with Mobilenet\" model here. See the [detection model zoo](https://github.com/tensorflow/models/blob/master/research/object_detection/g3doc/detection_model_zoo.md) for a list of other models that can be run out-of-the-box with varying speeds and accuracies."
      ]
    },
    {
      "cell_type": "markdown",
      "metadata": {
        "colab_type": "text",
        "id": "7ai8pLZZWKMS"
      },
      "source": [
        "### Loader"
      ]
    },
    {
      "cell_type": "code",
      "metadata": {
        "colab_type": "code",
        "id": "zm8xp-0eoItE",
        "colab": {}
      },
      "source": [
        "def load_custom_model(model_dir):\n",
        "  model_dir = pathlib.Path(model_dir)/\"saved_model\"\n",
        "\n",
        "  # Fix for \"TypeError: load() missing 2 required positional arguments: 'tags' and 'export_dir'\"\n",
        "  # Reference: https://stackoverflow.com/questions/58683841/problem-with-running-object-detection-tutorial-typeerror-load-missing-2-requi\n",
        "  # Reference: https://www.tensorflow.org/versions/r1.15/api_docs/python/tf/saved_model/load_v2\n",
        "  model = tf.saved_model.load_v2(str(model_dir))\n",
        "  model = model.signatures['serving_default']\n",
        "\n",
        "  return model\n",
        "\n",
        "\n",
        "def load_model(model_name):\n",
        "  base_url = 'http://download.tensorflow.org/models/object_detection/'\n",
        "  model_file = model_name + '.tar.gz'\n",
        "  model_dir = tf.keras.utils.get_file(\n",
        "    fname=model_name, \n",
        "    origin=base_url + model_file,\n",
        "    untar=True)\n",
        "\n",
        "  # Print model checkpoint directory\n",
        "  print(model_dir)\n",
        "  !ls {model_dir}\n",
        "\n",
        "  return load_custom_model(model_dir)"
      ],
      "execution_count": null,
      "outputs": []
    },
    {
      "cell_type": "markdown",
      "metadata": {
        "colab_type": "text",
        "id": "_1MVVTcLWKMW"
      },
      "source": [
        "### Generate label map\n",
        "Label maps map indices to category names, so that when our convolution network predicts `5`, we know that this corresponds to `airplane`.  Here we use internal utility functions, but anything that returns a dictionary mapping integers to appropriate string labels would be fine"
      ]
    },
    {
      "cell_type": "markdown",
      "metadata": {
        "id": "VRNVXEARwgUL",
        "colab_type": "text"
      },
      "source": [
        "Download dataset"
      ]
    },
    {
      "cell_type": "code",
      "metadata": {
        "id": "83Bm50fbMycF",
        "colab_type": "code",
        "colab": {}
      },
      "source": [
        "# Download dataset\n",
        "!wget -nc https://data.broadinstitute.org/bbbc/BBBC041/malaria.zip\n",
        "!unzip -u '{CWD}/malaria.zip' -x '__MACOSX/*'"
      ],
      "execution_count": null,
      "outputs": []
    },
    {
      "cell_type": "markdown",
      "metadata": {
        "id": "-Ze-rz5twh-O",
        "colab_type": "text"
      },
      "source": [
        "Parse records and create label map"
      ]
    },
    {
      "cell_type": "code",
      "metadata": {
        "id": "TD-5JLLlMMeE",
        "colab_type": "code",
        "colab": {}
      },
      "source": [
        "import contextlib2\n",
        "import json\n",
        "import tensorflow as tf\n",
        "\n",
        "from object_detection.dataset_tools import tf_record_creation_util\n",
        "from object_detection.utils import dataset_util\n",
        "\n",
        "\n",
        "def get_simplified_image_format(filename: str) -> str:\n",
        "  extension = filename[-3:]\n",
        "\n",
        "  if extension == 'jpg':\n",
        "    return 'jpeg'\n",
        "  else:\n",
        "    return extension\n",
        "\n",
        "\n",
        "def get_simplified_class(class_name: str) -> str:\n",
        "  rbc_classes = {'red blood cell', 'trophozoite', 'schizont', 'ring', 'gametocyte', 'difficult'}\n",
        "\n",
        "  if class_name in rbc_classes:\n",
        "    return 'red blood cell'\n",
        "  else:\n",
        "    # Other (i.e. leukocyte)\n",
        "    return class_name\n",
        "\n",
        "\n",
        "def create_tf_example(example):\n",
        "  # TODO(user): Populate the following variables from your example.\n",
        "  height = example['height']  # Image height\n",
        "  width = example['width']  # Image width\n",
        "  # Filename of the image. Empty if image is not from file\n",
        "  filename = example['filename']\n",
        "  encoded_image_data = example['encoded_image_data']  # Encoded image bytes\n",
        "  image_format = example['image_format']  # b'jpeg' or b'png'\n",
        "\n",
        "  # List of normalized left x coordinates in bounding box (1 per box)\n",
        "  xmins = example['xmins']\n",
        "  # List of normalized right x coordinates in bounding box (1 per box)\n",
        "  xmaxs = example['xmaxs']\n",
        "  # List of normalized top y coordinates in bounding box (1 per box)\n",
        "  ymins = example['ymins']\n",
        "  # List of normalized bottom y coordinates in bounding box (1 per box)\n",
        "  ymaxs = example['ymaxs']\n",
        "  # List of string class name of bounding box (1 per box)\n",
        "  classes_text = example['classes_text']\n",
        "  # List of integer class id of bounding box (1 per box)\n",
        "  classes = example['classes']\n",
        "\n",
        "  tf_example = tf.train.Example(features=tf.train.Features(feature={\n",
        "    'image/height': dataset_util.int64_feature(height),\n",
        "    'image/width': dataset_util.int64_feature(width),\n",
        "    'image/filename': dataset_util.bytes_feature(filename),\n",
        "    'image/source_id': dataset_util.bytes_feature(filename),\n",
        "    'image/encoded': dataset_util.bytes_feature(encoded_image_data),\n",
        "    'image/format': dataset_util.bytes_feature(image_format),\n",
        "    'image/object/bbox/xmin': dataset_util.float_list_feature(xmins),\n",
        "    'image/object/bbox/xmax': dataset_util.float_list_feature(xmaxs),\n",
        "    'image/object/bbox/ymin': dataset_util.float_list_feature(ymins),\n",
        "    'image/object/bbox/ymax': dataset_util.float_list_feature(ymaxs),\n",
        "    'image/object/class/text': dataset_util.bytes_list_feature(classes_text),\n",
        "    'image/object/class/label': dataset_util.int64_list_feature(classes),\n",
        "  }))\n",
        "  return tf_example\n",
        "\n",
        "\n",
        "# TODO(user): Write code to read in your dataset to examples variable\n",
        "TRAINING_JSON_PATH = f'{CWD}/malaria/training.json'\n",
        "TEST_JSON_PATH = f'{CWD}/malaria/test.json'\n",
        "DATASET_PATHS = [TRAINING_JSON_PATH, TEST_JSON_PATH]\n",
        "NUM_SHARDS = 10\n",
        "OUTPUT_PATHS = [f'{CWD}/malaria/training.record', f'{CWD}/malaria/test.record']\n",
        "MODEL_DIR = f'{CWD}/rbc_model'\n",
        "LABEL_MAP_PATH = f'{MODEL_DIR}/classes.pbtxt'\n",
        "label_map = {}\n",
        "next_class_index = 1\n",
        "max_height = 0\n",
        "max_width = 0\n",
        "max_boxes = 0\n",
        "\n",
        "# Parse records\n",
        "for i in range(len(DATASET_PATHS)):\n",
        "  output_path = OUTPUT_PATHS[i]\n",
        "\n",
        "  with open(DATASET_PATHS[i]) as f:\n",
        "    data = json.load(f)\n",
        "\n",
        "  with contextlib2.ExitStack() as tf_record_close_stack:\n",
        "    output_tfrecords = tf_record_creation_util.open_sharded_output_tfrecords(tf_record_close_stack, output_path, NUM_SHARDS)\n",
        "\n",
        "    for j, entry in enumerate(data):\n",
        "      # Add to label map\n",
        "      # for obj in entry['objects']:\n",
        "      #   if get_simplified_class(obj['category']) not in label_map:\n",
        "      #     label_map[get_simplified_class(obj['category'])] = next_class_index\n",
        "      #     next_class_index += 1\n",
        "\n",
        "      label_map['red blood cell'] = 1 # Only rbc in label map\n",
        "\n",
        "      # Encode image data\n",
        "      with tf.gfile.GFile(f\"{CWD}/malaria{entry['image']['pathname']}\", 'rb') as fid:\n",
        "        encoded_image_data = fid.read()\n",
        "\n",
        "      # Only include bounding box of red blood cells\n",
        "      dataset_format = {\n",
        "        'height': entry['image']['shape']['r'],\n",
        "        'width': entry['image']['shape']['c'],\n",
        "        'filename': entry['image']['pathname'].encode(),\n",
        "        'encoded_image_data': encoded_image_data,\n",
        "        'image_format': get_simplified_image_format(entry['image']['pathname']).encode(),\n",
        "        'xmins': [obj['bounding_box']['minimum']['c'] / entry['image']['shape']['c'] for obj in entry['objects'] if get_simplified_class(obj['category']) == 'red blood cell'],\n",
        "        'xmaxs': [obj['bounding_box']['maximum']['c'] / entry['image']['shape']['c'] for obj in entry['objects'] if get_simplified_class(obj['category']) == 'red blood cell'],\n",
        "        'ymins': [obj['bounding_box']['minimum']['r'] / entry['image']['shape']['r'] for obj in entry['objects'] if get_simplified_class(obj['category']) == 'red blood cell'],\n",
        "        'ymaxs': [obj['bounding_box']['maximum']['r'] / entry['image']['shape']['r'] for obj in entry['objects'] if get_simplified_class(obj['category']) == 'red blood cell'],\n",
        "        'classes_text': [get_simplified_class(obj['category']).encode() for obj in entry['objects'] if get_simplified_class(obj['category']) == 'red blood cell'],\n",
        "        'classes': [label_map[get_simplified_class(obj['category'])] for obj in entry['objects'] if get_simplified_class(obj['category']) == 'red blood cell']\n",
        "      }\n",
        "\n",
        "      # Update config variables\n",
        "      max_height = max(dataset_format['height'], max_height)\n",
        "      max_width = max(dataset_format['width'], max_width)\n",
        "      max_boxes = max(len(entry['objects']), max_boxes)\n",
        "\n",
        "      # Add to shards\n",
        "      tf_example = create_tf_example(dataset_format)\n",
        "      output_shard_index = j % NUM_SHARDS\n",
        "\n",
        "      output_tfrecords[output_shard_index].write(tf_example.SerializeToString())\n",
        "\n",
        "# Create label map\n",
        "!mkdir -p {MODEL_DIR}\n",
        "\n",
        "with open(LABEL_MAP_PATH, 'w') as f:\n",
        "  first_label = True\n",
        "\n",
        "  for label in label_map:\n",
        "    f.write('item {\\n') if first_label else f.write('\\nitem {\\n')\n",
        "    f.write(f'  id: {label_map[label]}\\n')\n",
        "    f.write(f'  name: \"{label}\"\\n')\n",
        "    f.write('}\\n')\n",
        "\n",
        "    first_label = False\n",
        "\n",
        "print(f'(max_height, max_width) = ({max_height}, {max_width})')\n",
        "print('Verify \"ssd.config\" matches the following:')\n",
        "print(f'train_/eval_input_reader => label_map_path: \"{LABEL_MAP_PATH}\"')\n",
        "print(f'train_input_reader => input_path: \"{OUTPUT_PATHS[0]}-?????-of-00010\"')\n",
        "print(f'train_input_reader => max_number_of_boxes: {max_boxes}')\n",
        "print(f'eval_input_reader => input_path: \"{OUTPUT_PATHS[1]}-?????-of-00010\"')"
      ],
      "execution_count": null,
      "outputs": []
    },
    {
      "cell_type": "code",
      "metadata": {
        "colab_type": "code",
        "id": "hDbpHkiWWKMX",
        "colab": {}
      },
      "source": [
        "# List of the strings that is used to add correct label for each box.\n",
        "category_index = label_map_util.create_category_index_from_labelmap(LABEL_MAP_PATH, use_display_name=True)\n",
        "\n",
        "print(f'Save label map: \"{LABEL_MAP_PATH}\"')\n",
        "print()\n",
        "category_index"
      ],
      "execution_count": null,
      "outputs": []
    },
    {
      "cell_type": "markdown",
      "metadata": {
        "id": "JwX01w344QGO",
        "colab_type": "text"
      },
      "source": [
        "### Save these files\n",
        "- Label map"
      ]
    },
    {
      "cell_type": "markdown",
      "metadata": {
        "id": "z6it2qpIyhpI",
        "colab_type": "text"
      },
      "source": [
        "## Train custom model"
      ]
    },
    {
      "cell_type": "markdown",
      "metadata": {
        "id": "qJfOUzzA0DMW",
        "colab_type": "text"
      },
      "source": [
        "### Required files\n",
        "- Images\n",
        "- Pipeline configuration file"
      ]
    },
    {
      "cell_type": "markdown",
      "metadata": {
        "id": "E3pdBko1u83H",
        "colab_type": "text"
      },
      "source": [
        "### Load base model"
      ]
    },
    {
      "cell_type": "code",
      "metadata": {
        "id": "EBKnnwsfd8Wn",
        "colab_type": "code",
        "colab": {}
      },
      "source": [
        "model_name = 'ssd_mobilenet_v2_coco_2018_03_29'\n",
        "detection_model = load_model(model_name)\n",
        "\n",
        "# ssd.config file => fine_tune_checkpoint: \"/root/.keras/datasets/ssd_mobilenet_v2_coco_2018_03_29/model.ckpt\""
      ],
      "execution_count": null,
      "outputs": []
    },
    {
      "cell_type": "markdown",
      "metadata": {
        "id": "dj2-5QV6vEcM",
        "colab_type": "text"
      },
      "source": [
        "### Load custom config file"
      ]
    },
    {
      "cell_type": "code",
      "metadata": {
        "id": "rJLI5pmK4RQ3",
        "colab_type": "code",
        "colab": {}
      },
      "source": [
        "PIPELINE_CONFIG_PATH = f'{CWD}/ssd.config'\n",
        "MODEL_DIR = f'{CWD}/training'\n",
        "NUM_STEPS = 80000"
      ],
      "execution_count": null,
      "outputs": []
    },
    {
      "cell_type": "markdown",
      "metadata": {
        "id": "s6Z-jh-QvJxs",
        "colab_type": "text"
      },
      "source": [
        "### Run training script"
      ]
    },
    {
      "cell_type": "code",
      "metadata": {
        "id": "2r73fq9Pyjqi",
        "colab_type": "code",
        "colab": {}
      },
      "source": [
        "!python {CWD}/models/research/object_detection/model_main.py \\\n",
        "    --pipeline_config_path={PIPELINE_CONFIG_PATH} \\\n",
        "    --model_dir={MODEL_DIR} \\\n",
        "    --alsologtostderr \\\n",
        "    --num_train_steps={NUM_STEPS} \\\n",
        "    2>&1 | tee {MODEL_DIR}/output.log"
      ],
      "execution_count": null,
      "outputs": []
    },
    {
      "cell_type": "markdown",
      "metadata": {
        "id": "zrQfdH9T0GkK",
        "colab_type": "text"
      },
      "source": [
        "### Export trained model"
      ]
    },
    {
      "cell_type": "markdown",
      "metadata": {
        "id": "nkLKspSZ2iLv",
        "colab_type": "text"
      },
      "source": [
        "List available checkpoints"
      ]
    },
    {
      "cell_type": "code",
      "metadata": {
        "id": "pczxuCfG2W_a",
        "colab_type": "code",
        "colab": {}
      },
      "source": [
        "!ls {CWD}/training | grep model.ckpt"
      ],
      "execution_count": null,
      "outputs": []
    },
    {
      "cell_type": "code",
      "metadata": {
        "id": "fxixCKyT6Uly",
        "colab_type": "code",
        "colab": {}
      },
      "source": [
        "PIPELINE_CONFIG_PATH = f'{CWD}/ssd.config'\n",
        "TRAINED_CKPT_PREFIX = f'{CWD}/training/model.ckpt-###' # Set \"###\" to latest checkpoint file"
      ],
      "execution_count": null,
      "outputs": []
    },
    {
      "cell_type": "markdown",
      "metadata": {
        "id": "GhiC1wZY-FLe",
        "colab_type": "text"
      },
      "source": [
        "Export Model"
      ]
    },
    {
      "cell_type": "code",
      "metadata": {
        "id": "ipkQ7P8P0J_i",
        "colab_type": "code",
        "colab": {}
      },
      "source": [
        "# Reference: https://github.com/tensorflow/models/blob/master/research/object_detection/export_inference_graph.py\n",
        "INPUT_TYPE='image_tensor'\n",
        "MODEL_EXPORT_DIR = f'{CWD}/rbc_model'\n",
        "\n",
        "!python {CWD}/models/research/object_detection/export_inference_graph.py \\\n",
        "    --input_type={INPUT_TYPE} \\\n",
        "    --pipeline_config_path={PIPELINE_CONFIG_PATH} \\\n",
        "    --trained_checkpoint_prefix={TRAINED_CKPT_PREFIX} \\\n",
        "    --output_directory={MODEL_EXPORT_DIR}"
      ],
      "execution_count": null,
      "outputs": []
    },
    {
      "cell_type": "code",
      "metadata": {
        "id": "3Heeq0IfnDts",
        "colab_type": "code",
        "colab": {}
      },
      "source": [
        "!ls {MODEL_EXPORT_DIR}"
      ],
      "execution_count": null,
      "outputs": []
    },
    {
      "cell_type": "markdown",
      "metadata": {
        "id": "W74GmDR_zcGR",
        "colab_type": "text"
      },
      "source": [
        "Export to TensorFlow Lite"
      ]
    },
    {
      "cell_type": "code",
      "metadata": {
        "id": "eNEcnpSZzgUh",
        "colab_type": "code",
        "colab": {}
      },
      "source": [
        "# Reference: https://stackoverflow.com/questions/54823475/tensorflow-object-detection-convert-pb-file-to-tflite\n",
        "# Reference: https://github.com/tensorflow/models/blob/master/research/object_detection/g3doc/running_on_mobile_tensorflowlite.md\n",
        "# Reference: https://github.com/tensorflow/models/blob/master/research/object_detection/export_tflite_ssd_graph.py\n",
        "# Reference: https://stackoverflow.com/questions/58052869/tf-lite-object-detection-only-returning-10-detections\n",
        "MOBILE_MODEL_EXPORT_DIR = f'{CWD}/rbc_mobile_model'\n",
        "MAX_DETECTIONS = 300\n",
        "\n",
        "!python {CWD}/models/research/object_detection/export_tflite_ssd_graph.py \\\n",
        "  --pipeline_config_path={PIPELINE_CONFIG_PATH} \\\n",
        "  --trained_checkpoint_prefix={TRAINED_CKPT_PREFIX} \\\n",
        "  --output_directory={MOBILE_MODEL_EXPORT_DIR} \\\n",
        "  --max_detections={MAX_DETECTIONS} \\\n",
        "  --add_postprocessing_op=true"
      ],
      "execution_count": null,
      "outputs": []
    },
    {
      "cell_type": "code",
      "metadata": {
        "id": "bcawTbxVbEJH",
        "colab_type": "code",
        "colab": {}
      },
      "source": [
        "!ls {MOBILE_MODEL_EXPORT_DIR}"
      ],
      "execution_count": null,
      "outputs": []
    },
    {
      "cell_type": "markdown",
      "metadata": {
        "id": "-wSDsYlna17i",
        "colab_type": "text"
      },
      "source": [
        "Convert to .tflite"
      ]
    },
    {
      "cell_type": "code",
      "metadata": {
        "id": "BGyYcvLEhuXI",
        "colab_type": "code",
        "colab": {}
      },
      "source": [
        "TFLITE_OUTPUT_PATH = f'{CWD}/rbc_mobile_model.tflite'\n",
        "GRAPH_DEF_FILE = f'{MOBILE_MODEL_EXPORT_DIR}/tflite_graph.pb'\n",
        "INPUT_ARRAYS = 'normalized_input_image_tensor'\n",
        "OUTPUT_ARRAYS = \"'TFLite_Detection_PostProcess','TFLite_Detection_PostProcess:1','TFLite_Detection_PostProcess:2','TFLite_Detection_PostProcess:3'\"\n",
        "INPUT_SHAPES = '1,300,300,3'"
      ],
      "execution_count": null,
      "outputs": []
    },
    {
      "cell_type": "code",
      "metadata": {
        "id": "xxOBk83Nhudr",
        "colab_type": "code",
        "colab": {}
      },
      "source": [
        "# Reference: https://stackoverflow.com/questions/50632152/tensorflow-convert-pb-file-to-tflite-using-python\n",
        "!tflite_convert \\\n",
        "  --output_file={TFLITE_OUTPUT_PATH} \\\n",
        "  --graph_def_file={GRAPH_DEF_FILE} \\\n",
        "  --input_arrays={INPUT_ARRAYS} \\\n",
        "  --output_arrays={OUTPUT_ARRAYS} \\\n",
        "  --input_shape={INPUT_SHAPES} \\\n",
        "  --allow_custom_ops"
      ],
      "execution_count": null,
      "outputs": []
    },
    {
      "cell_type": "code",
      "metadata": {
        "id": "BzArjHA4sNe8",
        "colab_type": "code",
        "colab": {}
      },
      "source": [
        "!ls | grep *.tflite"
      ],
      "execution_count": null,
      "outputs": []
    },
    {
      "cell_type": "markdown",
      "metadata": {
        "id": "y-Vv_BFh4svQ",
        "colab_type": "text"
      },
      "source": [
        "### Save these files\n",
        "- Training folder\n",
        "- Model export folder\n",
        "- tflite model export folder\n",
        "- `.tflite` file"
      ]
    },
    {
      "cell_type": "markdown",
      "metadata": {
        "id": "3R2oND7I5juW",
        "colab_type": "text"
      },
      "source": [
        "Compress training folder"
      ]
    },
    {
      "cell_type": "code",
      "metadata": {
        "id": "39qDXbH35Y0R",
        "colab_type": "code",
        "colab": {}
      },
      "source": [
        "!tar -cvzf {CWD}/training.tar.gz {MODEL_DIR}\n",
        "print()\n",
        "print('Save me!')"
      ],
      "execution_count": null,
      "outputs": []
    },
    {
      "cell_type": "markdown",
      "metadata": {
        "id": "xgAA7NW65pdv",
        "colab_type": "text"
      },
      "source": [
        "Compress model export folder"
      ]
    },
    {
      "cell_type": "code",
      "metadata": {
        "id": "oiC0qnXF5EP2",
        "colab_type": "code",
        "colab": {}
      },
      "source": [
        "!tar -cvzf {CWD}/rbc_model.tar.gz {MODEL_EXPORT_DIR}\n",
        "print()\n",
        "print('Save me!')"
      ],
      "execution_count": null,
      "outputs": []
    },
    {
      "cell_type": "markdown",
      "metadata": {
        "colab_type": "text",
        "id": "N7JYoIvm7CMm"
      },
      "source": [
        "Compress mobile model export folder"
      ]
    },
    {
      "cell_type": "code",
      "metadata": {
        "colab_type": "code",
        "id": "iLcePEgc7CM0",
        "colab": {}
      },
      "source": [
        "!tar -cvzf {CWD}/rbc_mobile_model.tar.gz {MOBILE_MODEL_EXPORT_DIR}\n",
        "print()\n",
        "print('Save me!')"
      ],
      "execution_count": null,
      "outputs": []
    },
    {
      "cell_type": "markdown",
      "metadata": {
        "colab_type": "text",
        "id": "H0_1AGhrWKMc"
      },
      "source": [
        "# Detection"
      ]
    },
    {
      "cell_type": "markdown",
      "metadata": {
        "id": "tKjOZNiCzPme",
        "colab_type": "text"
      },
      "source": [
        "## Required Files\n",
        "- Images\n",
        "- Label map\n",
        "- Exported model"
      ]
    },
    {
      "cell_type": "markdown",
      "metadata": {
        "id": "7hctJV1qvoSt",
        "colab_type": "text"
      },
      "source": [
        "## Setup"
      ]
    },
    {
      "cell_type": "markdown",
      "metadata": {
        "colab_type": "text",
        "id": "Rc2w4Ie88yju"
      },
      "source": [
        "Upgrade to tf v2"
      ]
    },
    {
      "cell_type": "code",
      "metadata": {
        "colab_type": "code",
        "id": "PR88pTmF8yjy",
        "colab": {}
      },
      "source": [
        "# Fix for \"TypeError: int() argument must be a string, a bytes-like object or a number, not 'Tensor'\" during training\n",
        "!pip install -U tensorflow==\"2.*\"\n",
        "!pip install -U tensorflow-gpu==\"2.*\""
      ],
      "execution_count": null,
      "outputs": []
    },
    {
      "cell_type": "markdown",
      "metadata": {
        "colab_type": "text",
        "id": "slw4RvGeres9"
      },
      "source": [
        "Re-Imports"
      ]
    },
    {
      "cell_type": "code",
      "metadata": {
        "colab_type": "code",
        "id": "Naj4bwaSresF",
        "colab": {}
      },
      "source": [
        "import os\n",
        "import pathlib\n",
        "\n",
        "\n",
        "CWD = pathlib.Path.cwd()\n",
        "\n",
        "if \"models\" in pathlib.Path.cwd().parts:\n",
        "  while \"models\" in pathlib.Path.cwd().parts:\n",
        "    os.chdir('..')\n",
        "elif not pathlib.Path('models').exists():\n",
        "  !git clone --depth 1 https://github.com/tensorflow/models\n",
        "\n",
        "print(f'Current Working Directory: \"{CWD}\"')"
      ],
      "execution_count": null,
      "outputs": []
    },
    {
      "cell_type": "code",
      "metadata": {
        "id": "Sq4ofZ_0Cqyi",
        "colab_type": "code",
        "colab": {}
      },
      "source": [
        "# Increase default font size of bounding box\n",
        "!cp {CWD}/visualization_utils_fix.py {CWD}/models/research/object_detection/utils/visualization_utils.py"
      ],
      "execution_count": null,
      "outputs": []
    },
    {
      "cell_type": "markdown",
      "metadata": {
        "colab_type": "text",
        "id": "VT4dCtZPresz"
      },
      "source": [
        "Compile protobufs and install the object_detection package"
      ]
    },
    {
      "cell_type": "code",
      "metadata": {
        "colab_type": "code",
        "id": "SzP110dhres1",
        "colab": {}
      },
      "source": [
        "%%bash\n",
        "cd models/research/\n",
        "protoc object_detection/protos/*.proto --python_out=."
      ],
      "execution_count": null,
      "outputs": []
    },
    {
      "cell_type": "code",
      "metadata": {
        "colab_type": "code",
        "id": "7_lvTBxJres5",
        "colab": {}
      },
      "source": [
        "%%bash\n",
        "cd models/research\n",
        "pip install ."
      ],
      "execution_count": null,
      "outputs": []
    },
    {
      "cell_type": "code",
      "metadata": {
        "colab_type": "code",
        "id": "uOcExJeVres-",
        "colab": {}
      },
      "source": [
        "import numpy as np\n",
        "import os\n",
        "import six.moves.urllib as urllib\n",
        "import sys\n",
        "import tarfile\n",
        "import tensorflow as tf\n",
        "import zipfile\n",
        "import json\n",
        "\n",
        "from collections import defaultdict\n",
        "from io import StringIO\n",
        "from matplotlib import pyplot as plt\n",
        "from PIL import Image\n",
        "from IPython.display import display"
      ],
      "execution_count": null,
      "outputs": []
    },
    {
      "cell_type": "markdown",
      "metadata": {
        "colab_type": "text",
        "id": "HsTEA72BretB"
      },
      "source": [
        "Import the object detection module."
      ]
    },
    {
      "cell_type": "code",
      "metadata": {
        "colab_type": "code",
        "id": "5k7FIW3pretC",
        "colab": {}
      },
      "source": [
        "from object_detection.utils import ops as utils_ops\n",
        "from object_detection.utils import label_map_util\n",
        "from object_detection.utils import visualization_utils as vis_util"
      ],
      "execution_count": null,
      "outputs": []
    },
    {
      "cell_type": "markdown",
      "metadata": {
        "colab_type": "text",
        "id": "DCJuDzNJ3WJP"
      },
      "source": [
        "Patches:"
      ]
    },
    {
      "cell_type": "code",
      "metadata": {
        "colab_type": "code",
        "id": "nPyTDnUp3WJi",
        "colab": {}
      },
      "source": [
        "# patch tf1 into `utils.ops`\n",
        "utils_ops.tf = tf.compat.v1\n",
        "\n",
        "# Patch the location of gfile\n",
        "tf.gfile = tf.io.gfile"
      ],
      "execution_count": null,
      "outputs": []
    },
    {
      "cell_type": "markdown",
      "metadata": {
        "colab_type": "text",
        "id": "GmUEIzyWyJ03"
      },
      "source": [
        "Download dataset"
      ]
    },
    {
      "cell_type": "code",
      "metadata": {
        "colab_type": "code",
        "id": "_XUh_sDFyJ08",
        "colab": {}
      },
      "source": [
        "# Download dataset\n",
        "!wget -nc https://data.broadinstitute.org/bbbc/BBBC041/malaria.zip\n",
        "!unzip -u '{CWD}/malaria.zip' -x '__MACOSX/*'"
      ],
      "execution_count": null,
      "outputs": []
    },
    {
      "cell_type": "markdown",
      "metadata": {
        "id": "0aBmYFISrsEO",
        "colab_type": "text"
      },
      "source": [
        "## Load custom model"
      ]
    },
    {
      "cell_type": "code",
      "metadata": {
        "id": "phUtRmCgs_ma",
        "colab_type": "code",
        "colab": {}
      },
      "source": [
        "def load_custom_model(model_dir):\n",
        "  model_dir = pathlib.Path(model_dir)/\"saved_model\"\n",
        "\n",
        "  # Fix for \"TypeError: load() missing 2 required positional arguments: 'tags' and 'export_dir'\"\n",
        "  # Reference: https://stackoverflow.com/questions/58683841/problem-with-running-object-detection-tutorial-typeerror-load-missing-2-requi\n",
        "  # Reference: https://www.tensorflow.org/versions/r1.15/api_docs/python/tf/saved_model/load_v2\n",
        "  model = tf.saved_model.load(str(model_dir))\n",
        "  model = model.signatures['serving_default']\n",
        "\n",
        "  return model\n",
        "\n",
        "\n",
        "def load_model(model_name):\n",
        "  base_url = 'http://download.tensorflow.org/models/object_detection/'\n",
        "  model_file = model_name + '.tar.gz'\n",
        "  model_dir = tf.keras.utils.get_file(\n",
        "    fname=model_name, \n",
        "    origin=base_url + model_file,\n",
        "    untar=True)\n",
        "\n",
        "  # Print model checkpoint directory\n",
        "  print(model_dir)\n",
        "  !ls {model_dir}\n",
        "\n",
        "  return load_custom_model(model_dir)"
      ],
      "execution_count": null,
      "outputs": []
    },
    {
      "cell_type": "markdown",
      "metadata": {
        "id": "ChvawNUp05TL",
        "colab_type": "text"
      },
      "source": [
        "Extract model if necessary (uncomment to run)"
      ]
    },
    {
      "cell_type": "code",
      "metadata": {
        "id": "t_lf0x9X1NfX",
        "colab_type": "code",
        "colab": {}
      },
      "source": [
        "# MODEL_NAME = 'rbc_model'\n",
        "\n",
        "# !mkdir -p {CWD}/{MODEL_NAME}\n",
        "# !tar -xvf {CWD}/{MODEL_NAME}.tar.gz -C {CWD}/{MODEL_NAME}"
      ],
      "execution_count": null,
      "outputs": []
    },
    {
      "cell_type": "markdown",
      "metadata": {
        "id": "GQrpI7ce1Pv6",
        "colab_type": "text"
      },
      "source": [
        "Load model"
      ]
    },
    {
      "cell_type": "code",
      "metadata": {
        "colab_type": "code",
        "id": "1XNT0wxybKR6",
        "colab": {}
      },
      "source": [
        "# model_name = 'ssd_mobilenet_v2_coco_2018_03_29'\n",
        "# detection_model = load_model(model_name)\n",
        "MODEL_EXPORT_DIR = f'{CWD}/rbc_model'\n",
        "detection_model = load_custom_model(MODEL_EXPORT_DIR)"
      ],
      "execution_count": null,
      "outputs": []
    },
    {
      "cell_type": "markdown",
      "metadata": {
        "colab_type": "text",
        "id": "yN1AYfAEJIGp"
      },
      "source": [
        "Check the model's input signature, it expects a batch of 3-color images of type uint8: "
      ]
    },
    {
      "cell_type": "code",
      "metadata": {
        "colab_type": "code",
        "id": "CK4cnry6wsHY",
        "colab": {}
      },
      "source": [
        "# Verify: \"shape=(None, None, None, 3) dtype=uint8>\"\n",
        "print(detection_model.inputs)"
      ],
      "execution_count": null,
      "outputs": []
    },
    {
      "cell_type": "markdown",
      "metadata": {
        "colab_type": "text",
        "id": "Q8u3BjpMJXZF"
      },
      "source": [
        "And retuns several outputs:"
      ]
    },
    {
      "cell_type": "code",
      "metadata": {
        "colab_type": "code",
        "id": "oLSZpfaYwuSk",
        "colab": {}
      },
      "source": [
        "detection_model.output_dtypes"
      ],
      "execution_count": null,
      "outputs": []
    },
    {
      "cell_type": "code",
      "metadata": {
        "colab_type": "code",
        "id": "FZyKUJeuxvpT",
        "colab": {}
      },
      "source": [
        "detection_model.output_shapes"
      ],
      "execution_count": null,
      "outputs": []
    },
    {
      "cell_type": "markdown",
      "metadata": {
        "id": "umq4pFdTvhij",
        "colab_type": "text"
      },
      "source": [
        "## Helper functions"
      ]
    },
    {
      "cell_type": "markdown",
      "metadata": {
        "colab_type": "text",
        "id": "JP5qZ7sXJpwG"
      },
      "source": [
        "Add a wrapper function to call the model, and cleanup the outputs:"
      ]
    },
    {
      "cell_type": "code",
      "metadata": {
        "colab_type": "code",
        "id": "ajmR_exWyN76",
        "colab": {}
      },
      "source": [
        "def run_inference_for_single_image(model, image):\n",
        "  image = np.asarray(image)\n",
        "  # The input needs to be a tensor, convert it using `tf.convert_to_tensor`.\n",
        "  input_tensor = tf.convert_to_tensor(image)\n",
        "  # The model expects a batch of images, so add an axis with `tf.newaxis`.\n",
        "  input_tensor = input_tensor[tf.newaxis,...]\n",
        "\n",
        "  # Run inference\n",
        "  output_dict = model(input_tensor)\n",
        "  # All outputs are batches tensors.\n",
        "  # Convert to numpy arrays, and take index [0] to remove the batch dimension.\n",
        "  # We're only interested in the first num_detections.\n",
        "  num_detections = int(output_dict.pop('num_detections'))\n",
        "  output_dict = {key:value[0, :num_detections].numpy() \n",
        "                 for key,value in output_dict.items()}\n",
        "  output_dict['num_detections'] = num_detections\n",
        "\n",
        "  # detection_classes should be ints.\n",
        "  output_dict['detection_classes'] = output_dict['detection_classes'].astype(np.int64)\n",
        "  # Handle models with masks:\n",
        "  if 'detection_masks' in output_dict:\n",
        "    # Reframe the the bbox mask to the image size.\n",
        "    detection_masks_reframed = utils_ops.reframe_box_masks_to_image_masks(\n",
        "              output_dict['detection_masks'], output_dict['detection_boxes'],\n",
        "               image.shape[0], image.shape[1])      \n",
        "    detection_masks_reframed = tf.cast(detection_masks_reframed > 0.5,\n",
        "                                       tf.uint8)\n",
        "    output_dict['detection_masks_reframed'] = detection_masks_reframed.numpy()\n",
        "    \n",
        "  return output_dict"
      ],
      "execution_count": null,
      "outputs": []
    },
    {
      "cell_type": "markdown",
      "metadata": {
        "colab_type": "text",
        "id": "z1wq0LVyMRR_"
      },
      "source": [
        "Run it on each test image and show the results:"
      ]
    },
    {
      "cell_type": "code",
      "metadata": {
        "colab_type": "code",
        "id": "DWh_1zz6aqxs",
        "colab": {}
      },
      "source": [
        "def show_inference(model, image_path):\n",
        "  # the array based representation of the image will be used later in order to prepare the\n",
        "  # result image with boxes and labels on it.\n",
        "  image_np = np.array(Image.open(image_path))\n",
        "  # Actual detection.\n",
        "  output_dict = run_inference_for_single_image(model, image_np)\n",
        "  # Visualization of the results of a detection.\n",
        "  vis_util.visualize_boxes_and_labels_on_image_array(\n",
        "      image_np,\n",
        "      output_dict['detection_boxes'],\n",
        "      output_dict['detection_classes'],\n",
        "      output_dict['detection_scores'],\n",
        "      category_index,\n",
        "      instance_masks=output_dict.get('detection_masks_reframed', None),\n",
        "      use_normalized_coordinates=True,\n",
        "      line_thickness=8)\n",
        "\n",
        "  # print(output_dict)\n",
        "  display(Image.fromarray(image_np))"
      ],
      "execution_count": null,
      "outputs": []
    },
    {
      "cell_type": "markdown",
      "metadata": {
        "id": "Rkkm9AgjwFzT",
        "colab_type": "text"
      },
      "source": [
        "## Evaluate model"
      ]
    },
    {
      "cell_type": "markdown",
      "metadata": {
        "id": "pQKJjzcLwPWv",
        "colab_type": "text"
      },
      "source": [
        "Set test images paths"
      ]
    },
    {
      "cell_type": "code",
      "metadata": {
        "id": "mN9RREpj-KOX",
        "colab_type": "code",
        "colab": {}
      },
      "source": [
        "DATASET_PATH = f'{CWD}/malaria'\n",
        "TRAINING_JSON_PATH = f'{DATASET_PATH}/training.json'\n",
        "TEST_JSON_PATH = f'{DATASET_PATH}/test.json'\n",
        "\n",
        "# Load training images\n",
        "with open(TRAINING_JSON_PATH) as f:\n",
        "  data = json.load(f)\n",
        "\n",
        "TRAINING_IMAGES_PATHS = [pathlib.Path(f\"{DATASET_PATH}{entry['image']['pathname']}\") for entry in data]\n",
        "\n",
        "# Load test images\n",
        "with open(TEST_JSON_PATH) as f:\n",
        "  data = json.load(f)\n",
        "\n",
        "TEST_IMAGES_PATHS = [pathlib.Path(f\"{DATASET_PATH}{entry['image']['pathname']}\") for entry in data]\n",
        "\n",
        "print(TRAINING_IMAGES_PATHS)\n",
        "print(f'Training images count: {len(TRAINING_IMAGES_PATHS)}')\n",
        "print(TEST_IMAGES_PATHS)\n",
        "print(f'Test images count: {len(TEST_IMAGES_PATHS)}')"
      ],
      "execution_count": null,
      "outputs": []
    },
    {
      "cell_type": "markdown",
      "metadata": {
        "id": "yWqo6RxZwSdA",
        "colab_type": "text"
      },
      "source": [
        "Load label map"
      ]
    },
    {
      "cell_type": "code",
      "metadata": {
        "id": "OVx8OVLopdSQ",
        "colab_type": "code",
        "colab": {}
      },
      "source": [
        "LABEL_MAP_PATH = f'{MODEL_EXPORT_DIR}/classes.pbtxt'\n",
        "category_index = label_map_util.create_category_index_from_labelmap(LABEL_MAP_PATH, use_display_name=True)"
      ],
      "execution_count": null,
      "outputs": []
    },
    {
      "cell_type": "markdown",
      "metadata": {
        "id": "Nc16c1jZwV66",
        "colab_type": "text"
      },
      "source": [
        "Run random test image through model"
      ]
    },
    {
      "cell_type": "code",
      "metadata": {
        "colab_type": "code",
        "id": "3a5wMHN8WKMh",
        "colab": {}
      },
      "source": [
        "import random\n",
        "\n",
        "# random_image_path = random.choice(TRAINING_IMAGES_PATHS)\n",
        "random_image_path = random.choice(TEST_IMAGES_PATHS)\n",
        "\n",
        "show_inference(detection_model, random_image_path)"
      ],
      "execution_count": null,
      "outputs": []
    },
    {
      "cell_type": "code",
      "metadata": {
        "id": "QwpjxwX-0N_R",
        "colab_type": "code",
        "colab": {}
      },
      "source": [
        ""
      ],
      "execution_count": null,
      "outputs": []
    }
  ]
}