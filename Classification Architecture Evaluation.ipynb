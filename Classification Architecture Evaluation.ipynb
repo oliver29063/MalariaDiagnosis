{
  "nbformat": 4,
  "nbformat_minor": 0,
  "metadata": {
    "colab": {
      "name": "Classification Architecture Evaluation.ipynb",
      "provenance": [],
      "toc_visible": true
    },
    "kernelspec": {
      "name": "python3",
      "display_name": "Python 3"
    },
    "accelerator": "GPU"
  },
  "cells": [
    {
      "cell_type": "markdown",
      "metadata": {
        "id": "_-ApRQVdDifU",
        "colab_type": "text"
      },
      "source": [
        "# INFORMATION TO USER\n",
        "The notebook is used to generate Figure 3 in the manuscript via the **Google Colab** platform\n"
      ]
    },
    {
      "cell_type": "markdown",
      "metadata": {
        "id": "wCVSQJ5tDyyj",
        "colab_type": "text"
      },
      "source": [
        "# Package Versions\n",
        "Imported Libraries\n",
        "- numpy: 1.18.5\n",
        "- pandas: 1.0.5\n",
        "- seaborn: 0.10.1\n",
        "- matplotlib: 3.2.2"
      ]
    },
    {
      "cell_type": "markdown",
      "metadata": {
        "id": "l4CWJbMwBmty",
        "colab_type": "text"
      },
      "source": [
        "### Clone GitHub Repository\n",
        "This is so we can access the raw data in the \\*.csv files from the GitHib at https://github.com/oliver29063/MalariaDiagnosis."
      ]
    },
    {
      "cell_type": "code",
      "metadata": {
        "id": "_ouWzqN7B7_M",
        "colab_type": "code",
        "colab": {}
      },
      "source": [
        "! git clone https://github.com/oliver29063/MalariaDiagnosis"
      ],
      "execution_count": null,
      "outputs": []
    },
    {
      "cell_type": "markdown",
      "metadata": {
        "id": "g9qqvFnfDfXF",
        "colab_type": "text"
      },
      "source": [
        "### Import Packages and Set Plot Specifications"
      ]
    },
    {
      "cell_type": "code",
      "metadata": {
        "id": "zLzOp8TFBmzk",
        "colab_type": "code",
        "colab": {
          "base_uri": "https://localhost:8080/",
          "height": 72
        },
        "outputId": "e54e8964-a71c-48fe-9acc-58379911f0c3"
      },
      "source": [
        "import numpy as np\n",
        "import pandas as pd\n",
        "import seaborn as sns; sns.set()\n",
        "import matplotlib.pyplot as plt\n",
        "sns.set_style(style='whitegrid')"
      ],
      "execution_count": 1,
      "outputs": [
        {
          "output_type": "stream",
          "text": [
            "/usr/local/lib/python3.6/dist-packages/statsmodels/tools/_testing.py:19: FutureWarning: pandas.util.testing is deprecated. Use the functions in the public API at pandas.testing instead.\n",
            "  import pandas.util.testing as tm\n"
          ],
          "name": "stderr"
        }
      ]
    },
    {
      "cell_type": "markdown",
      "metadata": {
        "id": "fc5JFSFBCjtk",
        "colab_type": "text"
      },
      "source": [
        "### Dense Node Figures (Figures 3A and 3B)"
      ]
    },
    {
      "cell_type": "code",
      "metadata": {
        "id": "VrIOJW-TCjzG",
        "colab_type": "code",
        "colab": {}
      },
      "source": [
        "ModelList = ['N256_256' ,'N256_512' ,'N256_1024' ,\n",
        "             'N512_256' ,'N512_512' ,'N512_1024' ,\n",
        "             'N1024_256','N1024_512','N1024_1024']\n",
        "\n",
        "# Initialize variables and preallocate memory space\n",
        "Epochs = 40\n",
        "ModelCt = len(ModelList)\n",
        "TestAccuracies = np.zeros([5*ModelCt,40])\n",
        "TestLosses = np.zeros([5*ModelCt,40])\n",
        "\n",
        "# Import CSV data from feature extraction architecture experiments\n",
        "for i in range(ModelCt):\n",
        "    TestAccuracies[i*5:(i+1)*5,:] = np.genfromtxt('MalariaDiagnosis/DenseNodes/'+str(ModelList[i][1:])+'_TestAcc.csv', delimiter=',')\n",
        "    TestLosses[i*5:(i+1)*5,:] = np.genfromtxt('MalariaDiagnosis/DenseNodes/'+str(ModelList[i][1:])+'_TestLoss.csv', delimiter=',')\n",
        "    \n",
        "# Flatten or concatenate data for dataframe\n",
        "All_Accuracies = TestAccuracies.flatten()\n",
        "All_Losses = TestLosses.flatten()\n",
        "Epochs = np.array(list(np.arange(1,Epochs+1))*5*ModelCt)\n",
        "Models = np.repeat(ModelList, [200]*ModelCt, axis=0)\n",
        "\n",
        "Label =     ['Nodes = 256/256' ,'Nodes = 256/512' ,'Nodes = 256/1024' ,\n",
        "             'Nodes = 512/256' ,'Nodes = 512/512' ,'Nodes = 512/1024' ,\n",
        "             'Nodes = 1024/256','Nodes = 1024/512','Nodes = 1024/1024']\n",
        "Labels = np.repeat(Label, [200]*ModelCt, axis=0)\n",
        "\n",
        "# Set up DataFrame for testing accuracy and testing loss\n",
        "AccuracyPerformanceData = {'Epoch': Epochs, 'Testing Accuracy': All_Accuracies, 'Model': Labels}\n",
        "AccuracyPerformanceDf = pd.DataFrame(data=AccuracyPerformanceData)\n",
        "\n",
        "LossPerformanceData = {'Epoch': Epochs, 'Testing Loss': All_Losses, 'Model': Labels}\n",
        "LossPerformanceDf = pd.DataFrame(data=AccuracyPerformanceData)\n",
        "\n",
        "# Print plots \n",
        "plt.figure(1)\n",
        "AccuracyPerformancePlt = sns.lineplot(x=\"Epoch\", y=\"Testing Accuracy\", hue=\"Model\", ci = None, data=AccuracyPerformanceData, palette=\"colorblind\")\n",
        "plt.title('Performance by Dense Node Layers')\n",
        "plt.ylabel('Testing Accuracy')\n",
        "plt.xlabel('Epoch')\n",
        "plt.ylim(0.8,1) \n",
        "plt.xlim(0,40)\n",
        "plt.legend(loc='lower right')\n",
        "plt.savefig('Figure3A.png', dpi = 600)\n",
        "plt.show()\n",
        "\n",
        "plt.figure(3)\n",
        "LossPerformancePlt = sns.lineplot(x=\"Epoch\", y=\"Testing Loss\", hue=\"Model\", ci = None, data=LossPerformanceData, palette=\"colorblind\")\n",
        "plt.title('Performance by Dense Node Layers')\n",
        "plt.ylabel('Testing Loss')\n",
        "plt.xlabel('Epoch')\n",
        "plt.ylim(0,1) \n",
        "plt.xlim(0,40)\n",
        "plt.savefig('Figure3B.png', dpi = 600)\n",
        "plt.show()"
      ],
      "execution_count": null,
      "outputs": []
    },
    {
      "cell_type": "markdown",
      "metadata": {
        "id": "yzTsfhVJDChT",
        "colab_type": "text"
      },
      "source": [
        "### Dropout Figures (Figures 3C and 3D)"
      ]
    },
    {
      "cell_type": "code",
      "metadata": {
        "id": "XuplkgxtDCnZ",
        "colab_type": "code",
        "colab": {}
      },
      "source": [
        "ModelList = ['0.25','0.50','0.75']\n",
        "\n",
        "# Initialize variables and preallocate memory space\n",
        "Epochs = 75\n",
        "ModelCt = len(ModelList)\n",
        "TestAccuracies = np.zeros([5*ModelCt,75])\n",
        "TestLosses = np.zeros([5*ModelCt,75])\n",
        "\n",
        "# Import CSV data from feature extraction architecture experiments\n",
        "TestAccuracies[:5,:] = np.genfromtxt('MalariaDiagnosis/Dropout/0.25_TestAcc.csv', delimiter=',')\n",
        "TestLosses[:5,:] = np.genfromtxt('MalariaDiagnosis/Dropout/0.25_TestLoss.csv', delimiter=',')\n",
        "TestAccuracies[5:10,:] = np.genfromtxt('MalariaDiagnosis/Dropout/0.5_TestAcc.csv', delimiter=',')\n",
        "TestLosses[5:10,:] = np.genfromtxt('MalariaDiagnosis/Dropout/0.5_TestLoss.csv', delimiter=',')\n",
        "TestAccuracies[10:,:] = np.genfromtxt('MalariaDiagnosis/Dropout/0.75_TestAcc.csv', delimiter=',')\n",
        "TestLosses[10:,:] = np.genfromtxt('MalariaDiagnosis/Dropout/0.75_TestLoss.csv', delimiter=',')\n",
        "    \n",
        "# Flatten or concatenate data for dataframe\n",
        "All_Accuracies = TestAccuracies.flatten()\n",
        "All_Losses = TestLosses.flatten()\n",
        "Epochs = np.array(list(np.arange(1,Epochs+1))*5*ModelCt)\n",
        "Models = np.repeat(ModelList, [375]*ModelCt, axis=0)\n",
        "\n",
        "Label =     ['Dropout = 0.25','Dropout = 0.50','Dropout = 0.75']\n",
        "Labels = np.repeat(Label, [375]*ModelCt, axis=0)\n",
        "\n",
        "# Set up DataFrame for testing accuracy and testing loss\n",
        "AccuracyPerformanceData = {'Epoch': Epochs, 'Testing Accuracy': All_Accuracies, 'Model': Labels}\n",
        "AccuracyPerformanceDf = pd.DataFrame(data=AccuracyPerformanceData)\n",
        "\n",
        "LossPerformanceData = {'Epoch': Epochs, 'Testing Loss': All_Losses, 'Model': Labels}\n",
        "LossPerformanceDf = pd.DataFrame(data=AccuracyPerformanceData)\n",
        "\n",
        "# Print plots \n",
        "plt.figure(1)\n",
        "AccuracyPerformancePlt = sns.lineplot(x=\"Epoch\", y=\"Testing Accuracy\", hue=\"Model\", data=AccuracyPerformanceData, palette=\"colorblind\")\n",
        "plt.title('Performance by Dropout Rate')\n",
        "plt.ylabel('Testing Accuracy')\n",
        "plt.xlabel('Epoch')\n",
        "plt.ylim(0.8,1) \n",
        "plt.xlim(0,75)\n",
        "plt.legend(loc='lower right')\n",
        "plt.savefig('Figure3C.png', dpi = 600)\n",
        "plt.show()\n",
        "\n",
        "plt.figure(3)\n",
        "LossPerformancePlt = sns.lineplot(x=\"Epoch\", y=\"Testing Loss\", hue=\"Model\", data=LossPerformanceData, palette=\"colorblind\")\n",
        "plt.title('Performance by Dropout Rate')\n",
        "plt.ylabel('Testing Loss')\n",
        "plt.xlabel('Epoch')\n",
        "plt.ylim(0,1) \n",
        "plt.xlim(0,75)\n",
        "plt.savefig('Figure3D.png', dpi = 600)\n",
        "plt.show()"
      ],
      "execution_count": null,
      "outputs": []
    },
    {
      "cell_type": "markdown",
      "metadata": {
        "id": "HBXwCkdjBgXc",
        "colab_type": "text"
      },
      "source": [
        "### Activation Function Figures (Figures 3E and 3F)"
      ]
    },
    {
      "cell_type": "code",
      "metadata": {
        "id": "pzj5JbPFBbiH",
        "colab_type": "code",
        "colab": {}
      },
      "source": [
        "ModelList = ['relu','tanh']\n",
        "\n",
        "# Initialize variables and preallocate memory space\n",
        "Epochs = 75\n",
        "ModelCt = len(ModelList)\n",
        "TestAccuracies = np.zeros([5*ModelCt,75])\n",
        "TestLosses = np.zeros([5*ModelCt,75])\n",
        "\n",
        "# Import CSV data from feature extraction architecture experiments\n",
        "TestAccuracies[:5,:] = np.genfromtxt('MalariaDiagnosis/ActivationFunctions/relu_TestAcc.csv', delimiter=',')\n",
        "TestLosses[:5,:] = np.genfromtxt('MalariaDiagnosis/ActivationFunctions/relu_TestLoss.csv', delimiter=',')\n",
        "TestAccuracies[5:10,:] = np.genfromtxt('MalariaDiagnosis/ActivationFunctions/tanh_TestAcc.csv', delimiter=',')\n",
        "TestLosses[5:10,:] = np.genfromtxt('MalariaDiagnosis/ActivationFunctions/tanh_TestLoss.csv', delimiter=',')\n",
        "    \n",
        "# Flatten or concatenate data for dataframe\n",
        "All_Accuracies = TestAccuracies.flatten()\n",
        "All_Losses = TestLosses.flatten()\n",
        "Epochs = np.array(list(np.arange(1,Epochs+1))*5*ModelCt)\n",
        "Models = np.repeat(ModelList, [375]*ModelCt, axis=0)\n",
        "\n",
        "Label = ['ReLU','Tanh']\n",
        "Labels = np.repeat(Label, [375]*ModelCt, axis=0)\n",
        "\n",
        "# Set up DataFrame for testing accuracy and testing loss\n",
        "AccuracyPerformanceData = {'Epoch': Epochs, 'Testing Accuracy': All_Accuracies, 'Model': Labels}\n",
        "AccuracyPerformanceDf = pd.DataFrame(data=AccuracyPerformanceData)\n",
        "\n",
        "LossPerformanceData = {'Epoch': Epochs, 'Testing Loss': All_Losses, 'Model': Labels}\n",
        "LossPerformanceDf = pd.DataFrame(data=AccuracyPerformanceData)\n",
        "\n",
        "# Print plots \n",
        "plt.figure(1)\n",
        "AccuracyPerformancePlt = sns.lineplot(x=\"Epoch\", y=\"Testing Accuracy\", hue=\"Model\", data=AccuracyPerformanceData, palette=\"colorblind\")\n",
        "plt.title('Performance by Activation Function')\n",
        "plt.ylabel('Testing Accuracy')\n",
        "plt.xlabel('Epoch')\n",
        "plt.ylim(0.8,1) \n",
        "plt.xlim(0,75)\n",
        "plt.legend(loc='lower right')\n",
        "plt.savefig('Figure3E.png', dpi = 600)\n",
        "plt.show()\n",
        "\n",
        "plt.figure(3)\n",
        "LossPerformancePlt = sns.lineplot(x=\"Epoch\", y=\"Testing Loss\", hue=\"Model\", data=LossPerformanceData, palette=\"colorblind\")\n",
        "plt.title('Performance by Activation Function')\n",
        "plt.ylabel('Testing Loss')\n",
        "plt.xlabel('Epoch')\n",
        "plt.ylim(0,0.8) \n",
        "plt.xlim(0,75)\n",
        "plt.savefig('Figure3F.png', dpi = 600)\n",
        "plt.show()"
      ],
      "execution_count": null,
      "outputs": []
    }
  ]
}